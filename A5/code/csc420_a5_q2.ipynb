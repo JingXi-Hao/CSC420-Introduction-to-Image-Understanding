{
  "nbformat": 4,
  "nbformat_minor": 0,
  "metadata": {
    "colab": {
      "name": "csc420_a5_q2.ipynb",
      "version": "0.3.2",
      "provenance": [],
      "collapsed_sections": []
    },
    "kernelspec": {
      "name": "python3",
      "display_name": "Python 3"
    }
  },
  "cells": [
    {
      "metadata": {
        "id": "wzcxkl-vv_YP",
        "colab_type": "code",
        "outputId": "1b519c0b-fbb0-4275-df10-ad9ea87a3f0b",
        "colab": {
          "base_uri": "https://localhost:8080/",
          "height": 34
        }
      },
      "cell_type": "code",
      "source": [
        "# TensorFlow and tf.keras\n",
        "import tensorflow as tf\n",
        "from tensorflow import keras\n",
        "from keras.backend import eval\n",
        "\n",
        "# Helper libraries\n",
        "import numpy as np\n",
        "import matplotlib.pyplot as plt\n",
        "import math"
      ],
      "execution_count": 0,
      "outputs": [
        {
          "output_type": "stream",
          "text": [
            "Using TensorFlow backend.\n"
          ],
          "name": "stderr"
        }
      ]
    },
    {
      "metadata": {
        "id": "jz6GkysXwJKk",
        "colab_type": "code",
        "outputId": "609435c9-56c2-4b52-fa38-cdf1f4301e19",
        "colab": {
          "base_uri": "https://localhost:8080/",
          "height": 153
        }
      },
      "cell_type": "code",
      "source": [
        "# load the data\n",
        "fashion_mnist = keras.datasets.fashion_mnist\n",
        "# separate the data into train and test sets\n",
        "(train_images, train_labels), (test_images, test_labels) = fashion_mnist.load_data()"
      ],
      "execution_count": 0,
      "outputs": [
        {
          "output_type": "stream",
          "text": [
            "Downloading data from https://storage.googleapis.com/tensorflow/tf-keras-datasets/train-labels-idx1-ubyte.gz\n",
            "32768/29515 [=================================] - 0s 0us/step\n",
            "Downloading data from https://storage.googleapis.com/tensorflow/tf-keras-datasets/train-images-idx3-ubyte.gz\n",
            "26427392/26421880 [==============================] - 0s 0us/step\n",
            "Downloading data from https://storage.googleapis.com/tensorflow/tf-keras-datasets/t10k-labels-idx1-ubyte.gz\n",
            "8192/5148 [===============================================] - 0s 0us/step\n",
            "Downloading data from https://storage.googleapis.com/tensorflow/tf-keras-datasets/t10k-images-idx3-ubyte.gz\n",
            "4423680/4422102 [==============================] - 0s 0us/step\n"
          ],
          "name": "stdout"
        }
      ]
    },
    {
      "metadata": {
        "id": "dCqgEDmHwT4I",
        "colab_type": "code",
        "colab": {}
      },
      "cell_type": "code",
      "source": [
        "# define class names\n",
        "class_names = ['T-shirt/top', 'Trouser', 'Pullover', 'Dress', 'Coat', \n",
        "               'Sandal', 'Shirt', 'Sneaker', 'Bag', 'Ankle boot']"
      ],
      "execution_count": 0,
      "outputs": []
    },
    {
      "metadata": {
        "id": "JAdkzFqewc5v",
        "colab_type": "code",
        "colab": {}
      },
      "cell_type": "code",
      "source": [
        "# preprocess the data\n",
        "train_images = train_images / 255.0\n",
        "\n",
        "test_images = test_images / 255.0"
      ],
      "execution_count": 0,
      "outputs": []
    },
    {
      "metadata": {
        "id": "zyfsUvucwkxf",
        "colab_type": "code",
        "outputId": "f8270357-ad02-4952-8a93-02e836f3050e",
        "colab": {
          "base_uri": "https://localhost:8080/",
          "height": 379
        }
      },
      "cell_type": "code",
      "source": [
        "# Question 2(c)\n",
        "# take preprocessed train_images and find the instances in each class (10 classes in total)\n",
        "classification = {}\n",
        "for i in range(len(train_labels)):\n",
        "  if train_labels[i] not in classification.keys():\n",
        "    classification[train_labels[i]] = 0\n",
        "  classification[train_labels[i]] += 1\n",
        "\n",
        "# draw the bar plot\n",
        "plt.xticks(list(classification.keys()), class_names)\n",
        "plt.yticks(list(classification.values()))\n",
        "plt.bar(classification.keys(), classification.values(), align='center', alpha=0.9)\n",
        "plt.ylabel('Number of Instances for Each Class')\n",
        "plt.title('Data Distribution For Each Class')"
      ],
      "execution_count": 0,
      "outputs": [
        {
          "output_type": "execute_result",
          "data": {
            "text/plain": [
              "Text(0.5,1,'Data Distribution For Each Class')"
            ]
          },
          "metadata": {
            "tags": []
          },
          "execution_count": 8
        },
        {
          "output_type": "display_data",
          "data": {
            "image/png": "[encoded data removed]",
            "text/plain": [
              "<matplotlib.figure.Figure at 0x7f5fdb563a90>"
            ]
          },
          "metadata": {
            "tags": []
          }
        }
      ]
    },
    {
      "metadata": {
        "id": "IfZ5lYO86rqe",
        "colab_type": "code",
        "colab": {}
      },
      "cell_type": "code",
      "source": [
        "# split the data into training and validation set with 70% and 30%\n",
        "num_of_train = math.ceil(train_images.shape[0] * 0.7)\n",
        "\n",
        "train_imgs = train_images[0:num_of_train]\n",
        "train_lbs = train_labels[0:num_of_train]\n",
        "\n",
        "valid_images = train_images[num_of_train:]\n",
        "valid_labels = train_labels[num_of_train:]\n",
        "\n",
        "# reshape the data for training model later\n",
        "train_imgs = train_imgs.reshape(train_imgs.shape[0], train_imgs.shape[1], train_imgs.shape[2], 1)\n",
        "valid_images = valid_images.reshape(valid_images.shape[0], valid_images.shape[1], valid_images.shape[2], 1)"
      ],
      "execution_count": 0,
      "outputs": []
    },
    {
      "metadata": {
        "id": "ZwPVtYv__ang",
        "colab_type": "code",
        "colab": {}
      },
      "cell_type": "code",
      "source": [
        "# Question 2(d)\n",
        "# build the model\n",
        "model = keras.Sequential([\n",
        "    keras.layers.Conv2D(filters=64, kernel_size=3, strides=1, activation='relu', input_shape=(28,28,1)),\n",
        "    keras.layers.MaxPooling2D(pool_size=2),\n",
        "    keras.layers.Conv2D(filters=32, kernel_size=3, strides=1, activation='relu'),\n",
        "    keras.layers.Conv2D(filters=32, kernel_size=3, strides=1, activation='relu'),\n",
        "    keras.layers.MaxPooling2D(pool_size=2),\n",
        "    keras.layers.Flatten(),\n",
        "    keras.layers.Dense(128, activation=tf.nn.relu),\n",
        "    keras.layers.Dense(10, activation=tf.nn.softmax)\n",
        "])\n",
        "\n",
        "# compile the model\n",
        "model.compile(optimizer=keras.optimizers.Adam(lr=0.0004), \n",
        "              loss='sparse_categorical_crossentropy',\n",
        "              metrics=['accuracy'])"
      ],
      "execution_count": 0,
      "outputs": []
    },
    {
      "metadata": {
        "id": "tCgD66n4_z34",
        "colab_type": "code",
        "outputId": "21a78399-8925-4da1-cad3-fa24816c6997",
        "colab": {
          "base_uri": "https://localhost:8080/",
          "height": 391
        }
      },
      "cell_type": "code",
      "source": [
        "# train the model\n",
        "model.fit(train_imgs, train_lbs, validation_data=(valid_images, valid_labels), epochs=10)"
      ],
      "execution_count": 0,
      "outputs": [
        {
          "output_type": "stream",
          "text": [
            "Train on 42000 samples, validate on 18000 samples\n",
            "Epoch 1/10\n",
            "42000/42000 [==============================] - 84s 2ms/step - loss: 0.6269 - acc: 0.7707 - val_loss: 0.4436 - val_acc: 0.8393\n",
            "Epoch 2/10\n",
            "42000/42000 [==============================] - 82s 2ms/step - loss: 0.4068 - acc: 0.8501 - val_loss: 0.3881 - val_acc: 0.8602\n",
            "Epoch 3/10\n",
            "42000/42000 [==============================] - 82s 2ms/step - loss: 0.3505 - acc: 0.8717 - val_loss: 0.3522 - val_acc: 0.8705\n",
            "Epoch 4/10\n",
            "42000/42000 [==============================] - 82s 2ms/step - loss: 0.3139 - acc: 0.8850 - val_loss: 0.3166 - val_acc: 0.8850\n",
            "Epoch 5/10\n",
            "42000/42000 [==============================] - 82s 2ms/step - loss: 0.2855 - acc: 0.8949 - val_loss: 0.3120 - val_acc: 0.8892\n",
            "Epoch 6/10\n",
            "42000/42000 [==============================] - 82s 2ms/step - loss: 0.2655 - acc: 0.9025 - val_loss: 0.3038 - val_acc: 0.8914\n",
            "Epoch 7/10\n",
            "42000/42000 [==============================] - 81s 2ms/step - loss: 0.2488 - acc: 0.9085 - val_loss: 0.2816 - val_acc: 0.8984\n",
            "Epoch 8/10\n",
            "42000/42000 [==============================] - 81s 2ms/step - loss: 0.2326 - acc: 0.9144 - val_loss: 0.2731 - val_acc: 0.9045\n",
            "Epoch 9/10\n",
            "42000/42000 [==============================] - 82s 2ms/step - loss: 0.2190 - acc: 0.9195 - val_loss: 0.2727 - val_acc: 0.9053\n",
            "Epoch 10/10\n",
            "42000/42000 [==============================] - 82s 2ms/step - loss: 0.2072 - acc: 0.9220 - val_loss: 0.2621 - val_acc: 0.9053\n"
          ],
          "name": "stdout"
        },
        {
          "output_type": "execute_result",
          "data": {
            "text/plain": [
              "<tensorflow.python.keras.callbacks.History at 0x7f5fc573a780>"
            ]
          },
          "metadata": {
            "tags": []
          },
          "execution_count": 18
        }
      ]
    },
    {
      "metadata": {
        "id": "Q1ojl64MckU-",
        "colab_type": "code",
        "outputId": "69756ed6-5ebe-40ad-945c-b1e954a04104",
        "colab": {
          "base_uri": "https://localhost:8080/",
          "height": 51
        }
      },
      "cell_type": "code",
      "source": [
        "# test accuracy on test set\n",
        "test_images = test_images.reshape(test_images.shape[0], test_images.shape[1], test_images.shape[2], 1)\n",
        "test_results = model.evaluate(test_images, test_labels)\n",
        "print(test_results)"
      ],
      "execution_count": 0,
      "outputs": [
        {
          "output_type": "stream",
          "text": [
            "10000/10000 [==============================] - 5s 466us/step\n",
            "[0.2699609413146973, 0.9037]\n"
          ],
          "name": "stdout"
        }
      ]
    },
    {
      "metadata": {
        "id": "tYUkRjAnxsJ4",
        "colab_type": "code",
        "colab": {}
      },
      "cell_type": "code",
      "source": [
        "# Question 2(f) and Question 2(g)\n",
        "# define and compile the model again\n",
        "model = keras.Sequential([\n",
        "    keras.layers.Conv2D(filters=64, kernel_size=3, strides=1, activation='relu', input_shape=(28,28,1)),\n",
        "    keras.layers.MaxPooling2D(pool_size=2),\n",
        "    keras.layers.Conv2D(filters=32, kernel_size=3, strides=1, activation='relu'),\n",
        "    keras.layers.Conv2D(filters=32, kernel_size=3, strides=1, activation='relu'),\n",
        "    keras.layers.MaxPooling2D(pool_size=2),\n",
        "    keras.layers.Flatten(),\n",
        "    keras.layers.Dense(128, activation=tf.nn.relu),\n",
        "    keras.layers.Dense(10, activation=tf.nn.softmax)\n",
        "])\n",
        "\n",
        "model.compile(optimizer=keras.optimizers.Adam(lr=0.0004), \n",
        "              loss='sparse_categorical_crossentropy',\n",
        "              metrics=['accuracy'])"
      ],
      "execution_count": 0,
      "outputs": []
    },
    {
      "metadata": {
        "id": "ogI2ehwpWTUy",
        "colab_type": "code",
        "colab": {}
      },
      "cell_type": "code",
      "source": [
        "train_acc = {8:[], 16:[], 32:[], 64:[]}\n",
        "valid_acc = {8:[], 16:[], 32:[], 64:[]}\n",
        "train_loss = {8:[], 16:[], 32:[], 64:[]}\n",
        "valid_loss = {8:[], 16:[], 32:[], 64:[]}\n",
        "test_acc = {8:[], 16:[], 32:[], 64:[]}\n",
        "test_loss = {8:[], 16:[], 32:[], 64:[]}"
      ],
      "execution_count": 0,
      "outputs": []
    },
    {
      "metadata": {
        "id": "QD73tat7lSJm",
        "colab_type": "code",
        "outputId": "873740ad-32c2-46c3-9182-0047d1d5bad4",
        "colab": {
          "base_uri": "https://localhost:8080/",
          "height": 1955
        }
      },
      "cell_type": "code",
      "source": [
        "# write a training loop, stop training when validation accuracy stops increasing (avoid overfitting)\n",
        "accuracy = 0\n",
        "count = 0\n",
        "# hard code here, change value manually, before running training loop, redefine and recompile the model first\n",
        "batch_value = 64\n",
        "\n",
        "while True:\n",
        "  history_for_train = model.fit(train_imgs, train_lbs, epochs=1, batch_size=batch_value).history\n",
        "\n",
        "  count += 1\n",
        "\n",
        "  results_for_valid = model.evaluate(valid_images, valid_labels)\n",
        "\n",
        "  results_for_test = model.evaluate(test_images, test_labels)\n",
        "\n",
        "  acc = results_for_valid[1]\n",
        "\n",
        "  if (acc - accuracy) >= 0:\n",
        "    accuracy = acc\n",
        "\n",
        "    print(\"train: \"+str(history_for_train)+\"\\n\")\n",
        "    print(\"valid: \"+str(results_for_valid)+\"\\n\")\n",
        "    print(\"test: \"+str(results_for_test)+\"\\n\")\n",
        "\n",
        "    train_acc[batch_value].append(history_for_train['acc'][0])\n",
        "    train_loss[batch_value].append(history_for_train['loss'][0])\n",
        "    \n",
        "    valid_acc[batch_value].append(results_for_valid[1])\n",
        "    valid_loss[batch_value].append(results_for_valid[0])\n",
        "    \n",
        "    test_acc[batch_value].append(results_for_test[1])\n",
        "    test_loss[batch_value].append(results_for_test[0])\n",
        "  else:\n",
        "    break"
      ],
      "execution_count": 0,
      "outputs": [
        {
          "output_type": "stream",
          "text": [
            "Epoch 1/1\n",
            "42000/42000 [==============================] - 71s 2ms/step - loss: 0.7025 - acc: 0.7440\n",
            "18000/18000 [==============================] - 9s 509us/step\n",
            "10000/10000 [==============================] - 6s 554us/step\n",
            "train: {'loss': [0.7024824530510675], 'acc': [0.7439523809523809]}\n",
            "\n",
            "valid: [0.5103577332496643, 0.8043333333333333]\n",
            "\n",
            "test: [0.5276947018146515, 0.8024]\n",
            "\n",
            "Epoch 1/1\n",
            "42000/42000 [==============================] - 69s 2ms/step - loss: 0.4548 - acc: 0.8349\n",
            "18000/18000 [==============================] - 9s 498us/step\n",
            "10000/10000 [==============================] - 5s 497us/step\n",
            "train: {'loss': [0.45480223287854876], 'acc': [0.8348571428571429]}\n",
            "\n",
            "valid: [0.44444744993580715, 0.8326111111111111]\n",
            "\n",
            "test: [0.4624392665147781, 0.8292]\n",
            "\n",
            "Epoch 1/1\n",
            "42000/42000 [==============================] - 70s 2ms/step - loss: 0.3949 - acc: 0.8580\n",
            "18000/18000 [==============================] - 9s 499us/step\n",
            "10000/10000 [==============================] - 5s 493us/step\n",
            "train: {'loss': [0.394946858110882], 'acc': [0.858]}\n",
            "\n",
            "valid: [0.37470920848846434, 0.8671666666666666]\n",
            "\n",
            "test: [0.39036175234317777, 0.8606]\n",
            "\n",
            "Epoch 1/1\n",
            "42000/42000 [==============================] - 70s 2ms/step - loss: 0.3504 - acc: 0.8729\n",
            "18000/18000 [==============================] - 9s 505us/step\n",
            "10000/10000 [==============================] - 5s 547us/step\n",
            "train: {'loss': [0.35040108539944603], 'acc': [0.8729047619047619]}\n",
            "\n",
            "valid: [0.34634155771467423, 0.8761111111111111]\n",
            "\n",
            "test: [0.3600529313325882, 0.8712]\n",
            "\n",
            "Epoch 1/1\n",
            "42000/42000 [==============================] - 70s 2ms/step - loss: 0.3214 - acc: 0.8827\n",
            "18000/18000 [==============================] - 9s 488us/step\n",
            "10000/10000 [==============================] - 5s 492us/step\n",
            "train: {'loss': [0.32144691375323703], 'acc': [0.8826904761904761]}\n",
            "\n",
            "valid: [0.34430245366361406, 0.8762777777777778]\n",
            "\n",
            "test: [0.36218230519294736, 0.8721]\n",
            "\n",
            "Epoch 1/1\n",
            "42000/42000 [==============================] - 69s 2ms/step - loss: 0.3052 - acc: 0.8890\n",
            "18000/18000 [==============================] - 9s 487us/step\n",
            "10000/10000 [==============================] - 5s 490us/step\n",
            "train: {'loss': [0.3051584118661426], 'acc': [0.8890476190476191]}\n",
            "\n",
            "valid: [0.3122316185765796, 0.8882777777777778]\n",
            "\n",
            "test: [0.3339873370885849, 0.8787]\n",
            "\n",
            "Epoch 1/1\n",
            "42000/42000 [==============================] - 69s 2ms/step - loss: 0.2818 - acc: 0.8984\n",
            "18000/18000 [==============================] - 9s 498us/step\n",
            "10000/10000 [==============================] - 5s 499us/step\n",
            "train: {'loss': [0.2817510228838239], 'acc': [0.8983809523809524]}\n",
            "\n",
            "valid: [0.30472036871645186, 0.891]\n",
            "\n",
            "test: [0.32241141254901884, 0.8825]\n",
            "\n",
            "Epoch 1/1\n",
            "42000/42000 [==============================] - 70s 2ms/step - loss: 0.2673 - acc: 0.9013\n",
            "18000/18000 [==============================] - 9s 488us/step\n",
            "10000/10000 [==============================] - 5s 489us/step\n",
            "train: {'loss': [0.2672796822616032], 'acc': [0.9012857142857142]}\n",
            "\n",
            "valid: [0.29862371188402176, 0.8927777777777778]\n",
            "\n",
            "test: [0.31327410321235655, 0.886]\n",
            "\n",
            "Epoch 1/1\n",
            "42000/42000 [==============================] - 69s 2ms/step - loss: 0.2568 - acc: 0.9059\n",
            "18000/18000 [==============================] - 9s 501us/step\n",
            "10000/10000 [==============================] - 5s 500us/step\n",
            "train: {'loss': [0.2567526425520579], 'acc': [0.9059285714285714]}\n",
            "\n",
            "valid: [0.28688460976547664, 0.8972222222222223]\n",
            "\n",
            "test: [0.30286143593788145, 0.8885]\n",
            "\n",
            "Epoch 1/1\n",
            "42000/42000 [==============================] - 70s 2ms/step - loss: 0.2456 - acc: 0.9094\n",
            "18000/18000 [==============================] - 9s 498us/step\n",
            "10000/10000 [==============================] - 5s 495us/step\n",
            "train: {'loss': [0.24557755611340204], 'acc': [0.9093571428571429]}\n",
            "\n",
            "valid: [0.27768152184618844, 0.899]\n",
            "\n",
            "test: [0.2940302008628845, 0.8935]\n",
            "\n",
            "Epoch 1/1\n",
            "42000/42000 [==============================] - 69s 2ms/step - loss: 0.2329 - acc: 0.9143\n",
            "18000/18000 [==============================] - 9s 496us/step\n",
            "10000/10000 [==============================] - 5s 497us/step\n",
            "train: {'loss': [0.2328594955489749], 'acc': [0.9142857142857143]}\n",
            "\n",
            "valid: [0.2738030022515191, 0.9028333333333334]\n",
            "\n",
            "test: [0.2885456812620163, 0.8969]\n",
            "\n",
            "Epoch 1/1\n",
            "42000/42000 [==============================] - 70s 2ms/step - loss: 0.2248 - acc: 0.9179\n",
            "18000/18000 [==============================] - 9s 497us/step\n",
            "10000/10000 [==============================] - 5s 536us/step\n"
          ],
          "name": "stdout"
        }
      ]
    },
    {
      "metadata": {
        "id": "nUsYIchDMTwo",
        "colab_type": "code",
        "colab": {}
      },
      "cell_type": "code",
      "source": [
        "# print(train_acc)\n",
        "# print(train_loss)\n",
        "# print(valid_acc)\n",
        "# print(valid_loss)\n",
        "# print(test_acc)\n",
        "# print(test_loss)"
      ],
      "execution_count": 0,
      "outputs": []
    },
    {
      "metadata": {
        "id": "7aNarKalshpr",
        "colab_type": "code",
        "outputId": "0ef791bc-0f15-40d2-8763-ab7e3057205d",
        "colab": {
          "base_uri": "https://localhost:8080/",
          "height": 364
        }
      },
      "cell_type": "code",
      "source": [
        "# plot train_acc, valid_acc, train_loss, valid_loss for each batch size\n",
        "# batch size 8, manually change batch size here to generate different graphs\n",
        "y_list = list(range(1, len(train_acc[64])+1))\n",
        "plt.plot(y_list, train_acc[64], color='red', label='Training Accuracy')\n",
        "plt.plot(y_list, train_loss[64], color='blue', label='Training Loss')\n",
        "plt.plot(y_list, valid_acc[64], color='orange', label='Valid Accuracy')\n",
        "plt.plot(y_list, valid_loss[64], color='green', label='Valid Loss')\n",
        "plt.ylabel('Accuracy/Loss')\n",
        "plt.legend()"
      ],
      "execution_count": 0,
      "outputs": [
        {
          "output_type": "execute_result",
          "data": {
            "text/plain": [
              "<matplotlib.legend.Legend at 0x7fb6ee017d30>"
            ]
          },
          "metadata": {
            "tags": []
          },
          "execution_count": 12
        },
        {
          "output_type": "display_data",
          "data": {
            "image/png": "[encoded data removed]",
            "text/plain": [
              "<matplotlib.figure.Figure at 0x7fb6ee0a6048>"
            ]
          },
          "metadata": {
            "tags": []
          }
        }
      ]
    }
  ]
}
